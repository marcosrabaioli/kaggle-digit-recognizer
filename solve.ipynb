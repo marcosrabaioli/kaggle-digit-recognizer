{
 "cells": [
  {
   "cell_type": "code",
   "execution_count": 109,
   "metadata": {},
   "outputs": [],
   "source": [
    "from keras.models import Sequential\n",
    "from keras.layers import Dense, Dropout, Flatten\n",
    "from keras.layers.convolutional import Conv2D, MaxPooling2D\n",
    "from keras.optimizers import RMSprop\n",
    "from keras.callbacks import ReduceLROnPlateau\n",
    "from keras.preprocessing.image import ImageDataGenerator\n",
    "\n",
    "import pandas as pd\n",
    "import numpy as np"
   ]
  },
  {
   "cell_type": "code",
   "execution_count": 95,
   "metadata": {},
   "outputs": [
    {
     "name": "stdout",
     "output_type": "stream",
     "text": [
      "Index(['label', 'pixel0', 'pixel1', 'pixel2', 'pixel3', 'pixel4', 'pixel5',\n       'pixel6', 'pixel7', 'pixel8',\n       ...\n       'pixel774', 'pixel775', 'pixel776', 'pixel777', 'pixel778', 'pixel779',\n       'pixel780', 'pixel781', 'pixel782', 'pixel783'],\n      dtype='object', length=785)\nIndex(['pixel0', 'pixel1', 'pixel2', 'pixel3', 'pixel4', 'pixel5', 'pixel6',\n       'pixel7', 'pixel8', 'pixel9',\n       ...\n       'pixel774', 'pixel775', 'pixel776', 'pixel777', 'pixel778', 'pixel779',\n       'pixel780', 'pixel781', 'pixel782', 'pixel783'],\n      dtype='object', length=784)\n"
     ]
    }
   ],
   "source": [
    "df_train = pd.read_csv('train.csv')\n",
    "\n",
    "df_test = pd.read_csv('test.csv')\n",
    "\n",
    "print(df_train.columns)\n",
    "print(df_test.columns)"
   ]
  },
  {
   "cell_type": "code",
   "execution_count": 96,
   "metadata": {},
   "outputs": [
    {
     "name": "stdout",
     "output_type": "stream",
     "text": [
      "(42000, 785)\n(28000, 784)\n"
     ]
    }
   ],
   "source": [
    "print(df_train.shape)\n",
    "print(df_test.shape)"
   ]
  },
  {
   "cell_type": "code",
   "execution_count": 97,
   "metadata": {},
   "outputs": [
    {
     "name": "stdout",
     "output_type": "stream",
     "text": [
      "(42000, 784)\n"
     ]
    }
   ],
   "source": [
    "X = df_train\n",
    "X = X.drop(columns=['label'])\n",
    "\n",
    "print(X.shape)"
   ]
  },
  {
   "cell_type": "code",
   "execution_count": 98,
   "metadata": {},
   "outputs": [
    {
     "name": "stdout",
     "output_type": "stream",
     "text": [
      "(28000, 28, 28, 1)\n(42000, 28, 28, 1)\n"
     ]
    }
   ],
   "source": [
    "X = X.values\n",
    "X_test = df_test.values\n",
    "\n",
    "X = X.dot(1/255)\n",
    "X_test = X_test.dot(1/255)\n",
    "\n",
    "X = X.reshape(X.shape[0], 28, 28, 1)\n",
    "X_test = X_test.reshape(X_test.shape[0], 28, 28, 1)\n",
    "\n",
    "print(X_test.shape)\n",
    "print(X.shape)"
   ]
  },
  {
   "cell_type": "code",
   "execution_count": 99,
   "metadata": {},
   "outputs": [
    {
     "name": "stdout",
     "output_type": "stream",
     "text": [
      "(42000,)\n"
     ]
    }
   ],
   "source": [
    "Y = df_train['label'].values\n",
    "\n",
    "print(Y.shape)"
   ]
  },
  {
   "cell_type": "code",
   "execution_count": 100,
   "metadata": {},
   "outputs": [
    {
     "name": "stdout",
     "output_type": "stream",
     "text": [
      "(42000, 10)\n"
     ]
    }
   ],
   "source": [
    "from keras.utils import np_utils\n",
    "\n",
    "Y = np_utils.to_categorical(Y)\n",
    "\n",
    "print(Y.shape)"
   ]
  },
  {
   "cell_type": "code",
   "execution_count": 28,
   "metadata": {},
   "outputs": [
    {
     "name": "stdout",
     "output_type": "stream",
     "text": [
      "[ 0.  0.  0.  0.  0.  0.  0.  0.  0.  1.]\n"
     ]
    }
   ],
   "source": [
    "print(Y[-1])"
   ]
  },
  {
   "cell_type": "code",
   "execution_count": 29,
   "metadata": {},
   "outputs": [],
   "source": [
    "from sklearn.model_selection import train_test_split\n",
    "\n",
    "random_seed = 7\n",
    "\n",
    "split_train_x, split_test_x, split_train_y, split_test_y, = train_test_split(X, Y, test_size = 0.10, random_state=random_seed)\n",
    "split_train_x, split_val_x, split_train_y, split_val_y, = train_test_split(split_train_x, split_train_y, test_size = 0.10, random_state=random_seed)"
   ]
  },
  {
   "cell_type": "code",
   "execution_count": 30,
   "metadata": {},
   "outputs": [],
   "source": [
    "reduce_learning_rate = ReduceLROnPlateau(monitor='val_acc',\n",
    "                              factor=0.3,\n",
    "                              patience=3,\n",
    "                              min_lr=0.0001)"
   ]
  },
  {
   "cell_type": "code",
   "execution_count": 31,
   "metadata": {},
   "outputs": [],
   "source": [
    "imgGenerator = ImageDataGenerator( rotation_range=10,\n",
    "                              zoom_range = 0.1,\n",
    "                              width_shift_range=0.1,\n",
    "                              height_shift_range=0.1)\n",
    "imgGenerator.fit(split_train_x)"
   ]
  },
  {
   "cell_type": "code",
   "execution_count": 135,
   "metadata": {},
   "outputs": [],
   "source": [
    "def CNN(label_class_size):\n",
    "    model = Sequential()\n",
    "    model.add(Conv2D(filters = 32, kernel_size = (5,5),padding = 'Same', \n",
    "                 activation ='relu', input_shape = (28,28,1)))\n",
    "    model.add(Conv2D(filters = 32, kernel_size = (5,5),padding = 'Same', \n",
    "                 activation ='relu'))\n",
    "    model.add(MaxPooling2D(pool_size=(2,2)))\n",
    "    model.add(Dropout(0.25))\n",
    "\n",
    "\n",
    "    model.add(Conv2D(filters = 64, kernel_size = (3,3),padding = 'Same', \n",
    "                 activation ='relu'))\n",
    "    model.add(Conv2D(filters = 64, kernel_size = (3,3),padding = 'Same', \n",
    "                 activation ='relu'))\n",
    "    model.add(MaxPooling2D(pool_size=(2,2), strides=(2,2)))\n",
    "    model.add(Dropout(0.25))\n",
    "\n",
    "    model.add(Flatten())\n",
    "    model.add(Dense(128, activation='relu'))\n",
    "    model.add(Dense(64, activation='relu'))\n",
    "    model.add(Dense(32, activation='relu'))\n",
    "    model.add(Dense(label_class_size, activation='softmax'))\n",
    "    model.compile(loss='categorical_crossentropy', optimizer=RMSprop(), metrics=['accuracy'])\n",
    "    return model"
   ]
  },
  {
   "cell_type": "code",
   "execution_count": 136,
   "metadata": {},
   "outputs": [],
   "source": [
    "model = CNN(Y.shape[1])"
   ]
  },
  {
   "cell_type": "code",
   "execution_count": 137,
   "metadata": {},
   "outputs": [
    {
     "name": "stdout",
     "output_type": "stream",
     "text": [
      "_________________________________________________________________\nLayer (type)                 Output Shape              Param #   \n=================================================================\nconv2d_35 (Conv2D)           (None, 28, 28, 32)        832       \n_________________________________________________________________\nconv2d_36 (Conv2D)           (None, 28, 28, 32)        25632     \n_________________________________________________________________\nmax_pooling2d_23 (MaxPooling (None, 14, 14, 32)        0         \n_________________________________________________________________\ndropout_14 (Dropout)         (None, 14, 14, 32)        0         \n_________________________________________________________________\nconv2d_37 (Conv2D)           (None, 14, 14, 64)        18496     \n_________________________________________________________________\nconv2d_38 (Conv2D)           (None, 14, 14, 64)        36928     \n_________________________________________________________________\nmax_pooling2d_24 (MaxPooling (None, 7, 7, 64)          0         \n_________________________________________________________________\ndropout_15 (Dropout)         (None, 7, 7, 64)          0         \n_________________________________________________________________\nflatten_10 (Flatten)         (None, 3136)              0         \n_________________________________________________________________\ndense_37 (Dense)             (None, 128)               401536    \n_________________________________________________________________\ndense_38 (Dense)             (None, 64)                8256      \n_________________________________________________________________\ndense_39 (Dense)             (None, 32)                2080      \n_________________________________________________________________\ndense_40 (Dense)             (None, 10)                330       \n=================================================================\nTotal params: 494,090\nTrainable params: 494,090\nNon-trainable params: 0\n_________________________________________________________________\n"
     ]
    }
   ],
   "source": [
    "model.summary()"
   ]
  },
  {
   "cell_type": "code",
   "execution_count": 139,
   "metadata": {},
   "outputs": [
    {
     "name": "stdout",
     "output_type": "stream",
     "text": [
      "Epoch 1/1\n"
     ]
    },
    {
     "name": "stdout",
     "output_type": "stream",
     "text": [
      " - 158s - loss: 0.4002 - acc: 0.8744 - val_loss: 0.0881 - val_acc: 0.9735\n"
     ]
    }
   ],
   "source": [
    "\n",
    "history = model.fit_generator(imgGenerator.flow(split_train_x,split_train_y, batch_size=64),\n",
    "                    epochs = 1, validation_data = (split_val_x,split_val_y),\n",
    "                    verbose = 2, steps_per_epoch=640, callbacks=[reduce_learning_rate])"
   ]
  },
  {
   "cell_type": "code",
   "execution_count": 140,
   "metadata": {},
   "outputs": [],
   "source": [
    "from sklearn.metrics import accuracy_score, recall_score, precision_score\n",
    "\n",
    "predictions_train = model.predict(split_train_x, verbose=0)\n",
    "predictions_val = model.predict(split_val_x, verbose=0)\n",
    "predictions_test = model.predict(split_test_x, verbose=0)\n"
   ]
  },
  {
   "cell_type": "code",
   "execution_count": 141,
   "metadata": {},
   "outputs": [
    {
     "name": "stdout",
     "output_type": "stream",
     "text": [
      "Resultados CNN: \n"
     ]
    },
    {
     "name": "stdout",
     "output_type": "stream",
     "text": [
      "-> Acuracia de treino:  0.973780129336\n-> Recall de treino:  0.981628540951\n-> Precisão de treino:  0.974073131089\n-> Acuracia de validacao:  0.97037037037\n-> Recall de validacao:  0.977351452172\n-> Precisão de validacao:  0.970593484675\n-> Acuracia de teste:  0.975714285714\n-> Recall de teste:  0.981792045999\n-> Precisão de teste:  0.975975062395\n"
     ]
    }
   ],
   "source": [
    "print(\"Resultados CNN: \")\n",
    "print('-> Acuracia de treino: ', accuracy_score(predictions_train.round(), split_train_y))\n",
    "print('-> Recall de treino: ', recall_score(predictions_train.round(), split_train_y, average='weighted'))\n",
    "print('-> Precisão de treino: ', precision_score(predictions_train.round(), split_train_y, average='weighted'))\n",
    "\n",
    "print('-> Acuracia de validacao: ', accuracy_score(predictions_val.round(), split_val_y))\n",
    "print('-> Recall de validacao: ', recall_score(predictions_val.round(), split_val_y, average='weighted'))\n",
    "print('-> Precisão de validacao: ', precision_score(predictions_val.round(), split_val_y, average='weighted'))\n",
    "\n",
    "print('-> Acuracia de teste: ', accuracy_score(predictions_test.round(), split_test_y))\n",
    "print('-> Recall de teste: ', recall_score(predictions_test.round(), split_test_y, average='weighted'))\n",
    "print('-> Precisão de teste: ', precision_score(predictions_test.round(), split_test_y, average='weighted'))"
   ]
  },
  {
   "cell_type": "code",
   "execution_count": 157,
   "metadata": {},
   "outputs": [
    {
     "name": "stdout",
     "output_type": "stream",
     "text": [
      "Epoch 1/30\n"
     ]
    },
    {
     "name": "stdout",
     "output_type": "stream",
     "text": [
      " - 164s - loss: 0.4007 - acc: 0.8705 - val_loss: 0.2682 - val_acc: 0.9233\n"
     ]
    },
    {
     "name": "stdout",
     "output_type": "stream",
     "text": [
      "Epoch 2/30\n"
     ]
    },
    {
     "name": "stdout",
     "output_type": "stream",
     "text": [
      " - 160s - loss: 0.1123 - acc: 0.9668 - val_loss: 0.0438 - val_acc: 0.9876\n"
     ]
    },
    {
     "name": "stdout",
     "output_type": "stream",
     "text": [
      "Epoch 3/30\n"
     ]
    },
    {
     "name": "stdout",
     "output_type": "stream",
     "text": [
      " - 160s - loss: 0.0800 - acc: 0.9765 - val_loss: 0.0398 - val_acc: 0.9898\n"
     ]
    },
    {
     "name": "stdout",
     "output_type": "stream",
     "text": [
      "Epoch 4/30\n"
     ]
    },
    {
     "name": "stdout",
     "output_type": "stream",
     "text": [
      " - 160s - loss: 0.0714 - acc: 0.9789 - val_loss: 0.0437 - val_acc: 0.9850\n"
     ]
    },
    {
     "name": "stdout",
     "output_type": "stream",
     "text": [
      "Epoch 5/30\n"
     ]
    },
    {
     "name": "stdout",
     "output_type": "stream",
     "text": [
      " - 159s - loss: 0.0638 - acc: 0.9821 - val_loss: 0.0300 - val_acc: 0.9910\n"
     ]
    },
    {
     "name": "stdout",
     "output_type": "stream",
     "text": [
      "Epoch 6/30\n"
     ]
    },
    {
     "name": "stdout",
     "output_type": "stream",
     "text": [
      " - 160s - loss: 0.0587 - acc: 0.9833 - val_loss: 0.0468 - val_acc: 0.9886\n"
     ]
    },
    {
     "name": "stdout",
     "output_type": "stream",
     "text": [
      "Epoch 7/30\n"
     ]
    },
    {
     "name": "stdout",
     "output_type": "stream",
     "text": [
      " - 159s - loss: 0.0568 - acc: 0.9838 - val_loss: 0.0475 - val_acc: 0.9879\n"
     ]
    },
    {
     "name": "stdout",
     "output_type": "stream",
     "text": [
      "Epoch 8/30\n"
     ]
    },
    {
     "name": "stdout",
     "output_type": "stream",
     "text": [
      " - 159s - loss: 0.0536 - acc: 0.9852 - val_loss: 0.0371 - val_acc: 0.9893\n"
     ]
    },
    {
     "name": "stdout",
     "output_type": "stream",
     "text": [
      "Epoch 9/30\n"
     ]
    },
    {
     "name": "stdout",
     "output_type": "stream",
     "text": [
      " - 158s - loss: 0.0355 - acc: 0.9900 - val_loss: 0.0259 - val_acc: 0.9926\n"
     ]
    },
    {
     "name": "stdout",
     "output_type": "stream",
     "text": [
      "Epoch 10/30\n"
     ]
    },
    {
     "name": "stdout",
     "output_type": "stream",
     "text": [
      " - 159s - loss: 0.0297 - acc: 0.9920 - val_loss: 0.0276 - val_acc: 0.9929\n"
     ]
    },
    {
     "name": "stdout",
     "output_type": "stream",
     "text": [
      "Epoch 11/30\n"
     ]
    },
    {
     "name": "stdout",
     "output_type": "stream",
     "text": [
      " - 159s - loss: 0.0295 - acc: 0.9912 - val_loss: 0.0308 - val_acc: 0.9914\n"
     ]
    },
    {
     "name": "stdout",
     "output_type": "stream",
     "text": [
      "Epoch 12/30\n"
     ]
    },
    {
     "name": "stdout",
     "output_type": "stream",
     "text": [
      " - 159s - loss: 0.0287 - acc: 0.9916 - val_loss: 0.0307 - val_acc: 0.9910\n"
     ]
    },
    {
     "name": "stdout",
     "output_type": "stream",
     "text": [
      "Epoch 13/30\n"
     ]
    },
    {
     "name": "stdout",
     "output_type": "stream",
     "text": [
      " - 159s - loss: 0.0260 - acc: 0.9923 - val_loss: 0.0303 - val_acc: 0.9910\n"
     ]
    },
    {
     "name": "stdout",
     "output_type": "stream",
     "text": [
      "Epoch 14/30\n"
     ]
    },
    {
     "name": "stdout",
     "output_type": "stream",
     "text": [
      " - 159s - loss: 0.0244 - acc: 0.9934 - val_loss: 0.0244 - val_acc: 0.9931\n"
     ]
    },
    {
     "name": "stdout",
     "output_type": "stream",
     "text": [
      "Epoch 15/30\n"
     ]
    },
    {
     "name": "stdout",
     "output_type": "stream",
     "text": [
      " - 159s - loss: 0.0203 - acc: 0.9939 - val_loss: 0.0268 - val_acc: 0.9936\n"
     ]
    },
    {
     "name": "stdout",
     "output_type": "stream",
     "text": [
      "Epoch 16/30\n"
     ]
    },
    {
     "name": "stdout",
     "output_type": "stream",
     "text": [
      " - 159s - loss: 0.0204 - acc: 0.9936 - val_loss: 0.0249 - val_acc: 0.9931\n"
     ]
    },
    {
     "name": "stdout",
     "output_type": "stream",
     "text": [
      "Epoch 17/30\n"
     ]
    },
    {
     "name": "stdout",
     "output_type": "stream",
     "text": [
      " - 160s - loss: 0.0218 - acc: 0.9935 - val_loss: 0.0242 - val_acc: 0.9938\n"
     ]
    },
    {
     "name": "stdout",
     "output_type": "stream",
     "text": [
      "Epoch 18/30\n"
     ]
    },
    {
     "name": "stdout",
     "output_type": "stream",
     "text": [
      " - 159s - loss: 0.0207 - acc: 0.9939 - val_loss: 0.0233 - val_acc: 0.9933\n"
     ]
    },
    {
     "name": "stdout",
     "output_type": "stream",
     "text": [
      "Epoch 19/30\n"
     ]
    },
    {
     "name": "stdout",
     "output_type": "stream",
     "text": [
      " - 159s - loss: 0.0198 - acc: 0.9938 - val_loss: 0.0261 - val_acc: 0.9938\n"
     ]
    },
    {
     "name": "stdout",
     "output_type": "stream",
     "text": [
      "Epoch 20/30\n"
     ]
    },
    {
     "name": "stdout",
     "output_type": "stream",
     "text": [
      " - 158s - loss: 0.0194 - acc: 0.9941 - val_loss: 0.0246 - val_acc: 0.9936\n"
     ]
    },
    {
     "name": "stdout",
     "output_type": "stream",
     "text": [
      "Epoch 21/30\n"
     ]
    },
    {
     "name": "stdout",
     "output_type": "stream",
     "text": [
      " - 158s - loss: 0.0186 - acc: 0.9942 - val_loss: 0.0277 - val_acc: 0.9924\n"
     ]
    },
    {
     "name": "stdout",
     "output_type": "stream",
     "text": [
      "Epoch 22/30\n"
     ]
    },
    {
     "name": "stdout",
     "output_type": "stream",
     "text": [
      " - 158s - loss: 0.0202 - acc: 0.9938 - val_loss: 0.0255 - val_acc: 0.9931\n"
     ]
    },
    {
     "name": "stdout",
     "output_type": "stream",
     "text": [
      "Epoch 23/30\n"
     ]
    },
    {
     "name": "stdout",
     "output_type": "stream",
     "text": [
      " - 158s - loss: 0.0197 - acc: 0.9942 - val_loss: 0.0256 - val_acc: 0.9931\n"
     ]
    },
    {
     "name": "stdout",
     "output_type": "stream",
     "text": [
      "Epoch 24/30\n"
     ]
    },
    {
     "name": "stdout",
     "output_type": "stream",
     "text": [
      " - 162s - loss: 0.0188 - acc: 0.9941 - val_loss: 0.0246 - val_acc: 0.9943\n"
     ]
    },
    {
     "name": "stdout",
     "output_type": "stream",
     "text": [
      "Epoch 25/30\n"
     ]
    },
    {
     "name": "stdout",
     "output_type": "stream",
     "text": [
      " - 160s - loss: 0.0195 - acc: 0.9946 - val_loss: 0.0249 - val_acc: 0.9936\n"
     ]
    },
    {
     "name": "stdout",
     "output_type": "stream",
     "text": [
      "Epoch 26/30\n"
     ]
    },
    {
     "name": "stdout",
     "output_type": "stream",
     "text": [
      " - 160s - loss: 0.0178 - acc: 0.9948 - val_loss: 0.0261 - val_acc: 0.9931\n"
     ]
    },
    {
     "name": "stdout",
     "output_type": "stream",
     "text": [
      "Epoch 27/30\n"
     ]
    },
    {
     "name": "stdout",
     "output_type": "stream",
     "text": [
      " - 159s - loss: 0.0187 - acc: 0.9946 - val_loss: 0.0273 - val_acc: 0.9929\n"
     ]
    },
    {
     "name": "stdout",
     "output_type": "stream",
     "text": [
      "Epoch 28/30\n"
     ]
    },
    {
     "name": "stdout",
     "output_type": "stream",
     "text": [
      " - 162s - loss: 0.0179 - acc: 0.9945 - val_loss: 0.0259 - val_acc: 0.9921\n"
     ]
    },
    {
     "name": "stdout",
     "output_type": "stream",
     "text": [
      "Epoch 29/30\n"
     ]
    },
    {
     "name": "stdout",
     "output_type": "stream",
     "text": [
      " - 160s - loss: 0.0188 - acc: 0.9944 - val_loss: 0.0241 - val_acc: 0.9929\n"
     ]
    },
    {
     "name": "stdout",
     "output_type": "stream",
     "text": [
      "Epoch 30/30\n"
     ]
    },
    {
     "name": "stdout",
     "output_type": "stream",
     "text": [
      " - 160s - loss: 0.0192 - acc: 0.9941 - val_loss: 0.0251 - val_acc: 0.9929\n"
     ]
    }
   ],
   "source": [
    "model = CNN(Y.shape[1])\n",
    "history = model.fit_generator(imgGenerator.flow(split_train_x,split_train_y, batch_size=64),\n",
    "                    epochs = 30, validation_data = (split_test_x,split_test_y),\n",
    "                    verbose = 2, steps_per_epoch=640, callbacks=[reduce_learning_rate])"
   ]
  },
  {
   "cell_type": "code",
   "execution_count": 158,
   "metadata": {},
   "outputs": [
    {
     "name": "stdout",
     "output_type": "stream",
     "text": [
      "-> Acuracia de total:  0.996904761905\n-> Recall de total:  0.997237174296\n-> Precisão de total:  0.99690672012\n"
     ]
    }
   ],
   "source": [
    "predictions_train = model.predict(X, verbose=0)\n",
    "print('-> Acuracia de total: ', accuracy_score(predictions_train.round(), Y))\n",
    "print('-> Recall de total: ', recall_score(predictions_train.round(), Y, average='weighted'))\n",
    "print('-> Precisão de total: ', precision_score(predictions_train.round(), Y, average='weighted'))"
   ]
  },
  {
   "cell_type": "code",
   "execution_count": 159,
   "metadata": {},
   "outputs": [],
   "source": [
    "predictions_sub = model.predict_classes(X_test)"
   ]
  },
  {
   "cell_type": "code",
   "execution_count": 160,
   "metadata": {},
   "outputs": [
    {
     "name": "stdout",
     "output_type": "stream",
     "text": [
      "2\n"
     ]
    }
   ],
   "source": [
    "print(predictions_sub[-1])"
   ]
  },
  {
   "cell_type": "code",
   "execution_count": 161,
   "metadata": {},
   "outputs": [],
   "source": [
    "submit = pd.DataFrame(data=predictions_sub, columns=('Label',), index=np.arange(1, predictions_sub.shape[0]+1))"
   ]
  },
  {
   "cell_type": "code",
   "execution_count": 161,
   "metadata": {},
   "outputs": [],
   "source": [
    "submit.to_csv('submitions.csv')"
   ]
  },
  {
   "cell_type": "code",
   "execution_count": null,
   "metadata": {},
   "outputs": [
    {
     "ename": "NameError",
     "evalue": "name 'inline' is not defined",
     "traceback": [
      "\u001b[0;31m---------------------------------------------------------------------------\u001b[0m",
      "\u001b[0;31mNameError\u001b[0m                                 Traceback (most recent call last)",
      "\u001b[0;32m<ipython-input-164-008fcdd599bc>\u001b[0m in \u001b[0;36m<module>\u001b[0;34m()\u001b[0m\n\u001b[1;32m      2\u001b[0m \u001b[0;32mimport\u001b[0m \u001b[0mmatplotlib\u001b[0m\u001b[0;34m.\u001b[0m\u001b[0mpyplot\u001b[0m \u001b[0;32mas\u001b[0m \u001b[0mplt\u001b[0m\u001b[0;34m\u001b[0m\u001b[0m\n\u001b[1;32m      3\u001b[0m \u001b[0;32mimport\u001b[0m \u001b[0mmatplotlib\u001b[0m\u001b[0;34m\u001b[0m\u001b[0m\n\u001b[0;32m----> 4\u001b[0;31m \u001b[0mmatplotlib\u001b[0m \u001b[0;34m%\u001b[0m\u001b[0minline\u001b[0m\u001b[0;34m\u001b[0m\u001b[0m\n\u001b[0m\u001b[1;32m      5\u001b[0m \u001b[0;34m\u001b[0m\u001b[0m\n\u001b[1;32m      6\u001b[0m \u001b[0mfig\u001b[0m\u001b[0;34m,\u001b[0m \u001b[0max\u001b[0m \u001b[0;34m=\u001b[0m \u001b[0mplt\u001b[0m\u001b[0;34m.\u001b[0m\u001b[0msubplots\u001b[0m\u001b[0;34m(\u001b[0m\u001b[0;36m2\u001b[0m\u001b[0;34m,\u001b[0m\u001b[0;36m1\u001b[0m\u001b[0;34m)\u001b[0m\u001b[0;34m\u001b[0m\u001b[0m\n",
      "\u001b[0;31mNameError\u001b[0m: name 'inline' is not defined"
     ],
     "output_type": "error"
    }
   ],
   "source": [
    "# Plot the loss and accuracy curves for training and validation \n",
    "import matplotlib.pyplot as plt\n",
    "import matplotlib\n",
    "%matplotlib inline\n",
    "\n",
    "fig, ax = plt.subplots(2,1)\n",
    "ax[0].plot(history.history['loss'], color='b', label=\"Training loss\")\n",
    "ax[0].plot(history.history['val_loss'], color='r', label=\"validation loss\",axes =ax[0])\n",
    "legend = ax[0].legend(loc='best', shadow=True)\n",
    "\n",
    "ax[1].plot(history.history['acc'], color='b', label=\"Training accuracy\")\n",
    "ax[1].plot(history.history['val_acc'], color='r',label=\"Validation accuracy\")\n",
    "legend = ax[1].legend(loc='best', shadow=True)"
   ]
  },
  {
   "cell_type": "code",
   "execution_count": null,
   "metadata": {},
   "outputs": [],
   "source": []
  }
 ],
 "metadata": {
  "kernelspec": {
   "display_name": "Python 3",
   "language": "python",
   "name": "python3"
  },
  "language_info": {
   "codemirror_mode": {
    "name": "ipython",
    "version": 3
   },
   "file_extension": ".py",
   "mimetype": "text/x-python",
   "name": "python",
   "nbconvert_exporter": "python",
   "pygments_lexer": "ipython3",
   "version": "3.6.4"
  }
 },
 "nbformat": 4,
 "nbformat_minor": 2
}
